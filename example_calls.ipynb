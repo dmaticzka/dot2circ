{
 "cells": [
  {
   "cell_type": "raw",
   "metadata": {
    "collapsed": false,
    "scrolled": true
   },
   "source": [
    "%%bash\n",
    "\n",
    "# create example dotplot\n",
    "RNAPLFOLD_PARAMS=\"-W 150 -L 100\"\n",
    "\n",
    "# RNAplfold names output according to FASTA header\n",
    "# in this case:\n",
    "# NR_002105.3_dp.ps\n",
    "RNAplfold $RNAPLFOLD_PARAMS <<FASTA\n",
    ">NR_002105.3\n",
    "attcgcggcctggtcacactaagctagggctactttttatatcataagtc\n",
    "gagcgtttaggtagctcggatggccatcgaaagggtaaattggtgttaca\n",
    "tatagctttagagatcgtttcgaatcacattgataatcgttcgaaacgtt\n",
    "ctccgaagcaaaatcaagcaagagtaacgatttccgcatagtcgaaaatg\n",
    "tttaagttgaattgtcttacggacagtgagatgagtacgactatttggaa\n",
    "atcacaaacgaattgttttcatggttgacgcgcttgtcaagctacaaaac\n",
    "aaaatgaatgatatacaatatacaatatacaatatgcaatacaatacaat\n",
    "acaagacaaaaaaatgtgtcttggaacgcaacattgtacaagtcgcaatg\n",
    "caaactgaagtcttaaaagacgtgtaaaatgttgcaaattaagcaaatat\n",
    "atatgcatatatgggtaacgttttacgcgccttaaccagtcaaaatacaa\n",
    "aataaattggtaaatttcatataactagtgaaatgttatacgaaacttaa\n",
    "caattgccaaat\n",
    "FASTA"
   ]
  },
  {
   "cell_type": "code",
   "execution_count": 67,
   "metadata": {
    "collapsed": true
   },
   "outputs": [],
   "source": [
    "%%bash\n",
    "\n",
    "# parse sequence from dotplot\n",
    "cat NR_002105.3_dp.ps | \n",
    "awk '\n",
    "BEGIN{\n",
    "    seqdef = 0\n",
    "}\n",
    "$0~/^\\/sequence/{\n",
    "    seqdef = 1\n",
    "}\n",
    "$0~/def$/{\n",
    "    seqdef = 0\n",
    "}\n",
    "seqdef==1 && $0!~/^\\/sequence/{\n",
    "    print $0\n",
    "}' | tr -d '\\\\' | tr -d \"\\n\" | tr 'ACGTUacgtu' 'ACGUUACGUU' > data/sequence.txt"
   ]
  },
  {
   "cell_type": "code",
   "execution_count": 68,
   "metadata": {
    "collapsed": false
   },
   "outputs": [],
   "source": [
    "%%bash\n",
    "\n",
    "# create circos sequence data file\n",
    "# coordinates are 0-based half-open (UCSC)\n",
    "\n",
    "cat data/sequence.txt |\n",
    "perl -ne 'print join(\"\\n\", split(\"\",$_)), \"\\n\"' | \n",
    "awk '{print \"seq\", i++, i, $1}' > data/circos.sequence.txt"
   ]
  },
  {
   "cell_type": "code",
   "execution_count": 69,
   "metadata": {
    "collapsed": false
   },
   "outputs": [],
   "source": [
    "%%bash\n",
    "\n",
    "# create circos karyotype data file\n",
    "\n",
    "cat data/sequence.txt |\n",
    "awk '{print \"chr\", \"-\", \"seq\", \"seq\", \"0\", length($0), \"black\"}' > data/circos.karyotype.txt"
   ]
  },
  {
   "cell_type": "code",
   "execution_count": 70,
   "metadata": {
    "collapsed": false
   },
   "outputs": [],
   "source": [
    "%%bash\n",
    "\n",
    "# create circos basepair data file\n",
    "\n",
    "cat NR_002105.3_dp.ps | \\\n",
    "grep -e '^[0-9\\ \\.]\\+ubox$' |\n",
    "awk '{print \"seq\",$1-1, $1, \"seq\", $2-1, $2, \"pij=\"$3*$3}' > data/circos.bplinks.txt"
   ]
  },
  {
   "cell_type": "code",
   "execution_count": 3,
   "metadata": {
    "collapsed": false
   },
   "outputs": [
    {
     "name": "stdout",
     "output_type": "stream",
     "text": [
      "debuggroup summary 0.12s welcome to circos v0.67-7 16 Mar 2015 on Perl 5.018004\n",
      "debuggroup summary 0.12s guessing configuration file\n",
      "debuggroup summary 0.12s found conf file /home/maticzkd/projects/misc/dot2circ/circos.conf\n",
      "debuggroup summary 0.25s debug will appear for these features: output,summary\n",
      "debuggroup summary 0.25s bitmap output image ./circos.png\n",
      "debuggroup summary 0.25s SVG output image ./circos.svg\n",
      "debuggroup summary 0.26s parsing karyotype and organizing ideograms\n",
      "debuggroup summary 0.26s karyotype has 1 chromosomes of total size 563\n",
      "debuggroup summary 0.26s applying global and local scaling\n",
      "debuggroup summary 0.26s allocating image, colors and brushes\n",
      "debuggroup summary 0.60s drawing 1 ideograms of total size 563\n",
      "debuggroup summary 0.60s drawing highlights and ideograms\n",
      "debuggroup summary 0.79s found conf file /scratch/HFQ/ext_home/src/circos-0.67-7/bin/../etc/tracks/link.conf\n",
      "debuggroup summary 0.80s process track_0 link /home/maticzkd/projects/misc/dot2circ/data/circos.bplinks.txt\n",
      "debuggroup summary 2.05s drawing link track_0 z 50\n",
      "debuggroup summary 4.04s found conf file /scratch/HFQ/ext_home/src/circos-0.67-7/bin/../etc/tracks/text.conf\n",
      "debuggroup summary 4.04s processing track_0 text /home/maticzkd/projects/misc/dot2circ/data/circos.sequence.txt\n",
      "debuggroup summary 4.10s drawing track_0 text z 100 circos.sequence.txt \n",
      "debuggroup summary 4.12s placing text track data/circos.sequence.txt\n",
      "debuggroup summary 4.12s ... see progress with -debug_group text\n",
      "debuggroup summary 4.12s ... see placement summary with -debug_group textplace\n",
      "debuggroup summary 4.44s found conf file /scratch/HFQ/ext_home/src/circos-0.67-7/bin/../etc/tracks/axis.conf\n",
      "debuggroup output 4.83s generating output\n",
      "debuggroup output 5.46s created PNG image ./circos.png (1027 kb)\n",
      "debuggroup output 5.53s created SVG image ./circos.svg (1390 kb)\n"
     ]
    }
   ],
   "source": [
    "%%bash\n",
    "\n",
    "# run circos\n",
    "\n",
    "PERL=/usr/bin/perl\n",
    "CIRCOS=/home/maticzkd/src/circos-0.67-7/bin/circos\n",
    "\n",
    "$PERL $CIRCOS \\\n",
    "-param links/link/rules/annot1_1st_stem_start=139 \\\n",
    "  -param links/link/rules/annot1_1st_stem_end=157 \\\n",
    "-param links/link/rules/annot1_2nd_stem_start=181 \\\n",
    "  -param links/link/rules/annot1_2nd_stem_end=206 \\\n",
    "-param links/link/rules/annot2_1st_stem_start=179 \\\n",
    "  -param links/link/rules/annot2_1st_stem_end=198 \\\n",
    "-param links/link/rules/annot2_2nd_stem_start=227 \\\n",
    "  -param links/link/rules/annot2_2nd_stem_end=246 "
   ]
  },
  {
   "cell_type": "code",
   "execution_count": null,
   "metadata": {
    "collapsed": true
   },
   "outputs": [],
   "source": []
  }
 ],
 "metadata": {
  "kernelspec": {
   "display_name": "Python 2",
   "language": "python",
   "name": "python2"
  },
  "language_info": {
   "codemirror_mode": {
    "name": "ipython",
    "version": 2
   },
   "file_extension": ".py",
   "mimetype": "text/x-python",
   "name": "python",
   "nbconvert_exporter": "python",
   "pygments_lexer": "ipython2",
   "version": "2.7.5"
  }
 },
 "nbformat": 4,
 "nbformat_minor": 0
}
